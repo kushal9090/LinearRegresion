{
 "cells": [
  {
   "cell_type": "code",
   "execution_count": 1,
   "metadata": {
    "collapsed": true
   },
   "outputs": [],
   "source": [
    "import numpy as np \n",
    "import pandas as pd\n",
    "import matplotlib.pyplot as plt\n",
    "import seaborn as sns\n",
    "from sklearn.metrics import r2_score"
   ]
  },
  {
   "cell_type": "code",
   "execution_count": 2,
   "metadata": {},
   "outputs": [
    {
     "name": "stdout",
     "output_type": "stream",
     "text": [
      "     PM10    Pb    Cd    Cu    Cr  Zn    NOx    SO2    Site Unnamed: 9  Season\n",
      "0  120.71  2.67  0.01  0.53  0.61   0  84.17  40.37  Mandai 2004-02-07  Summer\n",
      "1  140.25  3.49  0.02  0.10  0.91   0  88.81  39.48  Mandai 2004-02-14  Summer\n",
      "2  107.01  1.31  0.01  0.19  0.48   0  81.49  48.29  Mandai 2004-02-21  Summer\n",
      "3   88.81  0.76  0.00  0.33  0.39   0  61.80  27.42  Mandai 2004-02-28  Summer\n",
      "4   75.05  0.60  0.00  0.41  1.54   0  48.71  19.23  Mandai 2004-03-06  Summer\n",
      "(151, 11)\n"
     ]
    }
   ],
   "source": [
    "df = pd.read_excel(r\"C:\\\\Users\\\\kusha\\\\Desktop\\\\data sci\\\\python\\scratch simple linear regression\\\\airpollution\\\\AirPollution.xls\")\n",
    "print(df.head())\n",
    "print(df.shape)"
   ]
  },
  {
   "cell_type": "code",
   "execution_count": 3,
   "metadata": {},
   "outputs": [
    {
     "name": "stdout",
     "output_type": "stream",
     "text": [
      "     PM10    Pb    Cd    Cu    Cr    NOx    SO2\n",
      "0  120.71  2.67  0.01  0.53  0.61  84.17  40.37\n",
      "1  140.25  3.49  0.02  0.10  0.91  88.81  39.48\n",
      "2  107.01  1.31  0.01  0.19  0.48  81.49  48.29\n",
      "3   88.81  0.76  0.00  0.33  0.39  61.80  27.42\n",
      "4   75.05  0.60  0.00  0.41  1.54  48.71  19.23\n"
     ]
    }
   ],
   "source": [
    "dellist = [\"Zn\" , \"Site\" , \"Unnamed: 9\" , \"Season\"]\n",
    "for val in dellist:\n",
    "    del df[val]\n",
    "print(df.head())"
   ]
  },
  {
   "cell_type": "code",
   "execution_count": 4,
   "metadata": {},
   "outputs": [
    {
     "data": {
      "text/plain": [
       "PM10    0\n",
       "Pb      0\n",
       "Cd      0\n",
       "Cu      0\n",
       "Cr      0\n",
       "NOx     0\n",
       "SO2     0\n",
       "dtype: int64"
      ]
     },
     "execution_count": 4,
     "metadata": {},
     "output_type": "execute_result"
    }
   ],
   "source": [
    "df.isnull().sum()"
   ]
  },
  {
   "cell_type": "code",
   "execution_count": 6,
   "metadata": {},
   "outputs": [
    {
     "data": {
      "image/png": "[encoded data removed]",
      "text/plain": [
       "<matplotlib.figure.Figure at 0x109b2ee7898>"
      ]
     },
     "metadata": {},
     "output_type": "display_data"
    }
   ],
   "source": [
    "cormat = df.corr()\n",
    "a4_dimens = (11.7 , 8.27)\n",
    "fig , ax = plt.subplots(figsize = a4_dimens)\n",
    "sns.heatmap(cormat, cmap=\"magma_r\", vmax=.9, center=0,\n",
    "            square=True, linewidths=.5, cbar_kws={\"shrink\": .5} , \n",
    "            xticklabels=cormat.columns.values ,\n",
    "            yticklabels=cormat.columns.values,\n",
    "            ax = ax)\n",
    "plt.xticks(rotation = 90)\n",
    "plt.yticks(rotation = 360)\n",
    "plt.show()"
   ]
  },
  {
   "cell_type": "markdown",
   "metadata": {},
   "source": [
    "<b>\n",
    "<p><i>As we can observe in the correlation matrix plot we can infer that </i>:-</p>\n",
    "<p>1. Independent Variables  like \"Pb\" , \"Cu\" and \"Cr\" are highly correlated to the dependent variable . Which means these 3 variable have some effect on dependent variable \"PM10\".</p>\n",
    "<p>2. There is multicollinearity between independent variable NOx and SO2 , we can remove SO2 .</p>\n",
    "<p>3. Independent Variable NOx and Cd have little and no effect on dependent varible \"PM10\" , we can even remove these variable.</p>\n",
    "</b>"
   ]
  },
  {
   "cell_type": "code",
   "execution_count": 8,
   "metadata": {},
   "outputs": [
    {
     "name": "stdout",
     "output_type": "stream",
     "text": [
      "     PM10    Pb    Cu    Cr\n",
      "0  120.71  2.67  0.53  0.61\n",
      "1  140.25  3.49  0.10  0.91\n",
      "2  107.01  1.31  0.19  0.48\n",
      "3   88.81  0.76  0.33  0.39\n",
      "4   75.05  0.60  0.41  1.54\n"
     ]
    }
   ],
   "source": [
    "del df[\"Cd\"]\n",
    "del df[\"SO2\"]\n",
    "del df[\"NOx\"]\n",
    "print(df.head())"
   ]
  },
  {
   "cell_type": "code",
   "execution_count": 12,
   "metadata": {},
   "outputs": [
    {
     "data": {
      "image/png": "[encoded data removed]",
      "text/plain": [
       "<matplotlib.figure.Figure at 0x109b3caa710>"
      ]
     },
     "metadata": {},
     "output_type": "display_data"
    }
   ],
   "source": [
    "plt.figure(1)\n",
    "plt.subplot(141)\n",
    "sns.boxplot(data = df[\"PM10\"] , orient=\"v\" , color = \"b\")\n",
    "plt.xlabel(\"PM10\")\n",
    "\n",
    "plt.figure(1)\n",
    "plt.subplot(142)\n",
    "sns.boxplot(data = df[\"Pb\"] , orient=\"v\" , color= \"r\")\n",
    "plt.xlabel(\"Pb\")\n",
    "\n",
    "plt.figure(1)\n",
    "plt.subplot(143)\n",
    "sns.boxplot(data = df[\"Cu\"] , orient=\"v\" , color =\"g\")\n",
    "plt.xlabel(\"Cu\")\n",
    "\n",
    "plt.figure(1)\n",
    "plt.subplot(144)\n",
    "sns.boxplot(data = df[\"Cr\"] , orient=\"v\" , color = \"y\")\n",
    "plt.xlabel(\"Cr\")\n",
    "\n",
    "plt.show()"
   ]
  },
  {
   "cell_type": "markdown",
   "metadata": {},
   "source": [
    "<p>We can observe from these boxplot , that there are outliers but not many outliers.</p>\n",
    "<p>In this case what we can do is ignore these outliers or better option is to remove or replace these outliers because linear regression is sensitive to outliers</p>\n",
    "\n",
    "<p>We will replace the outliers with the upper whisker value from the boxplot.</p>"
   ]
  },
  {
   "cell_type": "code",
   "execution_count": 14,
   "metadata": {
    "collapsed": true
   },
   "outputs": [],
   "source": [
    "for outlier in df.columns:\n",
    "     B= plt.boxplot(df[outlier])\n",
    "     value = [item.get_ydata()[1] for item in B['whiskers']]\n",
    "     upper_whisker = value[1]\n",
    "     df[outlier][df[outlier] > upper_whisker] = upper_whisker"
   ]
  },
  {
   "cell_type": "code",
   "execution_count": 15,
   "metadata": {},
   "outputs": [
    {
     "data": {
      "image/png": "[encoded data removed]",
      "text/plain": [
       "<matplotlib.figure.Figure at 0x109b3bd14a8>"
      ]
     },
     "metadata": {},
     "output_type": "display_data"
    }
   ],
   "source": [
    "plt.figure(1)\n",
    "plt.subplot(141)\n",
    "sns.boxplot(data = df[\"PM10\"] , orient=\"v\" , color = \"b\")\n",
    "plt.xlabel(\"PM10\")\n",
    "\n",
    "plt.figure(1)\n",
    "plt.subplot(142)\n",
    "sns.boxplot(data = df[\"Pb\"] , orient=\"v\" , color= \"r\")\n",
    "plt.xlabel(\"Pb\")\n",
    "\n",
    "plt.figure(1)\n",
    "plt.subplot(143)\n",
    "sns.boxplot(data = df[\"Cu\"] , orient=\"v\" , color =\"g\")\n",
    "plt.xlabel(\"Cu\")\n",
    "\n",
    "plt.figure(1)\n",
    "plt.subplot(144)\n",
    "sns.boxplot(data = df[\"Cr\"] , orient=\"v\" , color = \"y\")\n",
    "plt.xlabel(\"Cr\")\n",
    "\n",
    "plt.show()"
   ]
  },
  {
   "cell_type": "markdown",
   "metadata": {},
   "source": [
    "<b>All the outliers has been replaced by upper whisker value. This will help in better accuracy of model.</b>"
   ]
  },
  {
   "cell_type": "markdown",
   "metadata": {},
   "source": [
    "y = df.iloc[:,0:1].values\n",
    "x = df.iloc[:,1:]\n",
    "x0 = np.ones([x.shape[0],1])\n",
    "x = np.concatenate((x0,x) , axis = 1)"
   ]
  },
  {
   "cell_type": "code",
   "execution_count": 19,
   "metadata": {
    "collapsed": true
   },
   "outputs": [],
   "source": [
    "from sklearn.model_selection import train_test_split as tt\n",
    "x_train , x_test , y_train , y_test = tt(x,\n",
    "                                         y,\n",
    "                                         test_size = 0.35, \n",
    "                                         random_state = 10)"
   ]
  },
  {
   "cell_type": "markdown",
   "metadata": {},
   "source": [
    "<h1>Cost Function</h1>"
   ]
  },
  {
   "cell_type": "code",
   "execution_count": 20,
   "metadata": {
    "collapsed": true
   },
   "outputs": [],
   "source": [
    "def costFunction(x,y,theta):\n",
    "    costF = ( (x @ theta.T) - y)**2\n",
    "    return sum(costF)/(2*len(x))"
   ]
  },
  {
   "cell_type": "markdown",
   "metadata": {},
   "source": [
    "<h1>Gradient Descent</h1>"
   ]
  },
  {
   "cell_type": "code",
   "execution_count": 21,
   "metadata": {
    "collapsed": true
   },
   "outputs": [],
   "source": [
    "def gradientDescent(x,y,theta ,learningRate ,i):\n",
    "    cost = np.zeros(i)\n",
    "    for n in range(i):\n",
    "        theta = theta - (learningRate/len(x))* np.sum(x*((x @ theta.T)-y) , axis = 0)\n",
    "        cost[n] = costFunction(x,y,theta)\n",
    "        \n",
    "    return theta , cost"
   ]
  },
  {
   "cell_type": "code",
   "execution_count": 22,
   "metadata": {},
   "outputs": [
    {
     "name": "stdout",
     "output_type": "stream",
     "text": [
      "[[ 0.  0.  0.  0.]]\n"
     ]
    }
   ],
   "source": [
    "theta = np.zeros([1,df.shape[1]])\n",
    "print(theta)"
   ]
  },
  {
   "cell_type": "markdown",
   "metadata": {},
   "source": [
    "<b><p>Initializing theta0 , theta1 , theta2 , theta3</p>\n",
    "<p>Where, \n",
    "theta0 = \"intercept\"\n",
    "and\n",
    "theta1 , theta2 , theta3 = \"slope\"\n",
    "</p></b>"
   ]
  },
  {
   "cell_type": "code",
   "execution_count": null,
   "metadata": {
    "collapsed": true
   },
   "outputs": [],
   "source": [
    "alpha = 0.001\n",
    "iteration = 10000"
   ]
  },
  {
   "cell_type": "markdown",
   "metadata": {},
   "source": [
    "<b><p>alpha = \"Learning rate\"</p>\n",
    "<p>iteration = \"number of iteration to minimize the cost function or to get the best cost function\"</p></b>\n",
    "\n",
    "<h3>Training</h3>"
   ]
  },
  {
   "cell_type": "code",
   "execution_count": 24,
   "metadata": {},
   "outputs": [
    {
     "name": "stdout",
     "output_type": "stream",
     "text": [
      "theta0,theta1,theta2,theta3 : \n",
      "[[ 26.35787315  36.68845561  20.75050875  26.75151938]]\n"
     ]
    }
   ],
   "source": [
    "coef , costs = gradientDescent(x_train ,\n",
    "                               y_train , \n",
    "                               theta , \n",
    "                               alpha , \n",
    "                               iteration)\n",
    "\n",
    "print(\"theta0,theta1,theta2,theta3 : \")\n",
    "print(coef)"
   ]
  },
  {
   "cell_type": "code",
   "execution_count": 28,
   "metadata": {},
   "outputs": [
    {
     "data": {
      "image/png": "[encoded data removed]",
      "text/plain": [
       "<matplotlib.figure.Figure at 0x109b3a3e2e8>"
      ]
     },
     "metadata": {},
     "output_type": "display_data"
    }
   ],
   "source": [
    "plt.plot(np.arange(iteration), costs, 'r')  \n",
    "plt.xlabel('Iterations')  \n",
    "plt.ylabel('Costs')  \n",
    "plt.title('Error(cost function) vs. Training iteration')\n",
    "plt.show()"
   ]
  },
  {
   "cell_type": "markdown",
   "metadata": {},
   "source": [
    "<b>As we can see in the above plot our cost function is decreasing per iteration which means , gradient descent is working proper</b>"
   ]
  },
  {
   "cell_type": "code",
   "execution_count": 29,
   "metadata": {},
   "outputs": [
    {
     "name": "stdout",
     "output_type": "stream",
     "text": [
      "[ 152.28271762]\n"
     ]
    }
   ],
   "source": [
    "final_cost = costFunction(x_train,y_train,coef)\n",
    "print(final_cost)"
   ]
  },
  {
   "cell_type": "markdown",
   "metadata": {},
   "source": [
    "<b>Testing the model</b>"
   ]
  },
  {
   "cell_type": "code",
   "execution_count": 30,
   "metadata": {
    "collapsed": true
   },
   "outputs": [],
   "source": [
    "def linearRegression(x ,y ,thetas):\n",
    "    #linear regression : h(x) = theta0 + theta1 * x1 + .....+ thetan * xn\n",
    "    pred_y =  x @ thetas.T \n",
    "    \n",
    "    return pred_y "
   ]
  },
  {
   "cell_type": "code",
   "execution_count": 32,
   "metadata": {
    "collapsed": true
   },
   "outputs": [],
   "source": [
    "pred_y = linearRegression(x_test,y_test,coef)"
   ]
  },
  {
   "cell_type": "code",
   "execution_count": 33,
   "metadata": {},
   "outputs": [
    {
     "name": "stdout",
     "output_type": "stream",
     "text": [
      "r2 =  0.81899775431\n"
     ]
    }
   ],
   "source": [
    "print(\"r2 = \" , r2_score(y_test,pred_y))"
   ]
  },
  {
   "cell_type": "code",
   "execution_count": 34,
   "metadata": {},
   "outputs": [
    {
     "name": "stdout",
     "output_type": "stream",
     "text": [
      "0.825164051484\n"
     ]
    }
   ],
   "source": [
    "residuals = y_test -  pred_y\n",
    "print(np.mean(residuals))"
   ]
  }
 ],
 "metadata": {
  "kernelspec": {
   "display_name": "Python 3",
   "language": "python",
   "name": "python3"
  },
  "language_info": {
   "codemirror_mode": {
    "name": "ipython",
    "version": 3
   },
   "file_extension": ".py",
   "mimetype": "text/x-python",
   "name": "python",
   "nbconvert_exporter": "python",
   "pygments_lexer": "ipython3",
   "version": "3.6.2"
  }
 },
 "nbformat": 4,
 "nbformat_minor": 2
}
